{
 "cells": [
  {
   "cell_type": "code",
   "execution_count": 59,
   "id": "c3db2d40",
   "metadata": {
    "ExecuteTime": {
     "end_time": "2022-09-13T20:20:50.603861Z",
     "start_time": "2022-09-13T20:20:50.599979Z"
    }
   },
   "outputs": [],
   "source": [
    "from sklearn.datasets import make_blobs, make_moons, make_circles\n",
    "import matplotlib.pyplot as plt\n",
    "from functions import *"
   ]
  },
  {
   "cell_type": "markdown",
   "id": "f2c904bd",
   "metadata": {},
   "source": [
    "## Algorithm"
   ]
  },
  {
   "cell_type": "code",
   "execution_count": 60,
   "id": "9e9acd86",
   "metadata": {
    "ExecuteTime": {
     "end_time": "2022-09-13T20:20:50.936644Z",
     "start_time": "2022-09-13T20:20:50.921978Z"
    }
   },
   "outputs": [],
   "source": [
    "def extract_clusters(points, maxN, P_th):\n",
    "    \"\"\"\n",
    "    points: input matrix\n",
    "    maxN: maximum number of partitions to be found\n",
    "    P_th: percentile threshold\n",
    "    \"\"\"\n",
    "    \n",
    "    M = points.shape[1]\n",
    "    partitions = np.array([])\n",
    "    Fset = np.arange(M)\n",
    "    Np = 0\n",
    "    T_th = np.abs(StudentDistr(points.shape[0] - 2).ppf((100 - P_th) / 200))\n",
    "    while Np < maxN:\n",
    "        F = Fset.copy()\n",
    "        t = T_th / 2\n",
    "        step = (T_th - t) / 10\n",
    "        \n",
    "        while True:\n",
    "            if len(F) < M * (1 - P_th / 100):\n",
    "                return partitions\n",
    "\n",
    "\n",
    "            matrix = calc_dist(points[:, F])\n",
    "            edges_list, edges_matrix = create_mst(matrix)\n",
    "\n",
    "            S1, S2, best_edge = get_best_partition(edges_list, edges_matrix, points[:, F])\n",
    "            \n",
    "            if len(S1) < 2 or len(S2) < 2:\n",
    "                Np += 1\n",
    "                break\n",
    "            \n",
    "            Fnew = np.array([])\n",
    "\n",
    "            for gene in F:\n",
    "                stat, p_val = calc_t_stat(points, S1, S2, gene)\n",
    "                if np.abs(stat) > t:\n",
    "                    Fnew = np.append(Fnew, gene)\n",
    "                        \n",
    "            if (Fnew.shape[0] == 0):\n",
    "                return partitions\n",
    "            \n",
    "            \n",
    "            if (len(set(F) - set(Fnew)) == 0 and np.abs(t - T_th) < 1e-4):\n",
    "                Fset = np.array(list(set(Fset) - set(Fnew))).astype(int)\n",
    "                Np += 1\n",
    "                break\n",
    "            else:\n",
    "                F = Fnew.astype(int)\n",
    "                if np.abs(t - T_th) > 1e-4:\n",
    "                    t += step\n",
    "                \n",
    "            \n",
    "        if F.shape[0] != 0:\n",
    "            partitions = np.append(partitions, Partition(S1, S2, F))\n",
    "            \n",
    "        \n",
    "    return partitions\n",
    "\n"
   ]
  },
  {
   "cell_type": "markdown",
   "id": "a7d21f6f",
   "metadata": {},
   "source": [
    "## Syntetic data"
   ]
  },
  {
   "cell_type": "code",
   "execution_count": 61,
   "id": "2b772133",
   "metadata": {
    "ExecuteTime": {
     "end_time": "2022-09-13T20:20:51.354609Z",
     "start_time": "2022-09-13T20:20:51.157167Z"
    }
   },
   "outputs": [
    {
     "data": {
      "text/plain": [
       "<matplotlib.legend.Legend at 0x7fe02758ef10>"
      ]
     },
     "execution_count": 61,
     "metadata": {},
     "output_type": "execute_result"
    },
    {
     "data": {
      "image/png": "[encoded data removed]",
      "text/plain": [
       "<Figure size 720x576 with 1 Axes>"
      ]
     },
     "metadata": {
      "needs_background": "light"
     },
     "output_type": "display_data"
    }
   ],
   "source": [
    "points, classes = make_blobs(50, 2, centers=2,  random_state=1001)\n",
    "\n",
    "## add noise\n",
    "points_noise = points.copy()\n",
    "for k in range(20):\n",
    "    noise = np.random.uniform(size=(points.shape[0]))\n",
    "    points_noise = np.hstack((points_noise, noise.reshape(-1, 1)))\n",
    "\n",
    "    \n",
    "plt.figure(figsize=(10, 8))\n",
    "plt.title('Blobs clusters', weight='bold', size=16)\n",
    "\n",
    "for class_ in [0, 1]:\n",
    "    \n",
    "    plt.scatter(points[classes == class_, 0], points[classes == class_, 1], label=class_)\n",
    "\n",
    "\n",
    "plt.xlabel('X', weight='bold', size=14)\n",
    "plt.ylabel('Y', weight='bold', size=14)\n",
    "\n",
    "plt.legend()"
   ]
  },
  {
   "cell_type": "markdown",
   "id": "21763477",
   "metadata": {},
   "source": [
    "## Predicted syntetic data"
   ]
  },
  {
   "cell_type": "code",
   "execution_count": 62,
   "id": "cd88b7cf",
   "metadata": {
    "ExecuteTime": {
     "end_time": "2022-09-13T20:20:52.395130Z",
     "start_time": "2022-09-13T20:20:51.420628Z"
    },
    "scrolled": true
   },
   "outputs": [],
   "source": [
    "maxN = 2\n",
    "P_th = 99.5\n",
    "\n",
    "partitions = extract_clusters(points_noise, maxN, P_th)"
   ]
  },
  {
   "cell_type": "code",
   "execution_count": 63,
   "id": "29153af1",
   "metadata": {
    "ExecuteTime": {
     "end_time": "2022-09-13T20:20:52.559833Z",
     "start_time": "2022-09-13T20:20:52.397210Z"
    }
   },
   "outputs": [
    {
     "data": {
      "text/plain": [
       "<matplotlib.legend.Legend at 0x7fe0275da0a0>"
      ]
     },
     "execution_count": 63,
     "metadata": {},
     "output_type": "execute_result"
    },
    {
     "data": {
      "image/png": "[encoded data removed]",
      "text/plain": [
       "<Figure size 720x576 with 1 Axes>"
      ]
     },
     "metadata": {
      "needs_background": "light"
     },
     "output_type": "display_data"
    }
   ],
   "source": [
    "pred_classes = np.zeros(points.shape[0])\n",
    "pred_classes[best_partition.S2] = 1\n",
    "\n",
    "plt.figure(figsize=(10, 8))\n",
    "plt.title('Blobs clusters', weight='bold', size=16)\n",
    "\n",
    "for class_ in [0, 1]:\n",
    "    \n",
    "    plt.scatter(points[pred_classes == class_, 0], points[pred_classes == class_, 1], label=class_)\n",
    "\n",
    "\n",
    "plt.xlabel('X', weight='bold', size=14)\n",
    "plt.ylabel('Y', weight='bold', size=14)\n",
    "\n",
    "plt.legend()"
   ]
  },
  {
   "cell_type": "code",
   "execution_count": null,
   "id": "3ab9870d",
   "metadata": {},
   "outputs": [],
   "source": []
  }
 ],
 "metadata": {
  "kernelspec": {
   "display_name": "Python 3 (ipykernel)",
   "language": "python",
   "name": "python3"
  },
  "language_info": {
   "codemirror_mode": {
    "name": "ipython",
    "version": 3
   },
   "file_extension": ".py",
   "mimetype": "text/x-python",
   "name": "python",
   "nbconvert_exporter": "python",
   "pygments_lexer": "ipython3",
   "version": "3.9.7"
  },
  "toc": {
   "base_numbering": 1,
   "nav_menu": {},
   "number_sections": true,
   "sideBar": true,
   "skip_h1_title": false,
   "title_cell": "Table of Contents",
   "title_sidebar": "Contents",
   "toc_cell": false,
   "toc_position": {},
   "toc_section_display": true,
   "toc_window_display": false
  }
 },
 "nbformat": 4,
 "nbformat_minor": 5
}
