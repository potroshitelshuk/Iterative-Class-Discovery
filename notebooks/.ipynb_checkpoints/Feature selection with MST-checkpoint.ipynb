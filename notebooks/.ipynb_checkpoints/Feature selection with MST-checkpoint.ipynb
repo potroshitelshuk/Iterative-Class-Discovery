{
 "cells": [
  {
   "cell_type": "code",
   "execution_count": 5,
   "id": "e1014141",
   "metadata": {
    "ExecuteTime": {
     "end_time": "2022-09-14T06:38:34.420240Z",
     "start_time": "2022-09-14T06:38:34.358640Z"
    }
   },
   "outputs": [],
   "source": [
    "import os\n",
    "import sys\n",
    "%load_ext autoreload\n",
    "%autoreload 2\n",
    "\n",
    "project_path = os.path.abspath(os.path.join('..'))\n",
    "\n",
    "if project_path not in sys.path:\n",
    "    sys.path.append(project_path)"
   ]
  },
  {
   "cell_type": "code",
   "execution_count": 7,
   "id": "ed78ede1",
   "metadata": {
    "ExecuteTime": {
     "end_time": "2022-09-14T06:38:40.127061Z",
     "start_time": "2022-09-14T06:38:40.089557Z"
    }
   },
   "outputs": [],
   "source": [
    "from src.functions import *\n",
    "from sklearn.datasets import make_blobs, make_moons, make_circles\n",
    "import matplotlib.pyplot as plt"
   ]
  },
  {
   "cell_type": "markdown",
   "id": "37111fbc",
   "metadata": {},
   "source": [
    "## Algorithm"
   ]
  },
  {
   "cell_type": "code",
   "execution_count": 8,
   "id": "0e6e9287",
   "metadata": {
    "ExecuteTime": {
     "end_time": "2022-09-14T06:38:41.790270Z",
     "start_time": "2022-09-14T06:38:41.753490Z"
    }
   },
   "outputs": [],
   "source": [
    "def extract_clusters(points, maxN, P_th):\n",
    "    \"\"\"\n",
    "    points: input matrix\n",
    "    maxN: maximum number of partitions to be found\n",
    "    P_th: percentile threshold\n",
    "    \"\"\"\n",
    "    \n",
    "    M = points.shape[1]\n",
    "    partitions = np.array([])\n",
    "    Fset = np.arange(M)\n",
    "    Np = 0\n",
    "    T_th = np.abs(StudentDistr(points.shape[0] - 2).ppf((100 - P_th) / 200))\n",
    "    while Np < maxN:\n",
    "        F = Fset.copy()\n",
    "        t = T_th / 2\n",
    "        step = (T_th - t) / 10\n",
    "        \n",
    "        while True:\n",
    "            if len(F) < M * (1 - P_th / 100):\n",
    "                return partitions\n",
    "\n",
    "\n",
    "            matrix = calc_dist(points[:, F])\n",
    "            edges_list, edges_matrix = create_mst(matrix)\n",
    "\n",
    "            S1, S2, best_edge = get_best_partition(edges_list, edges_matrix, points[:, F])\n",
    "            \n",
    "            if len(S1) < 2 or len(S2) < 2:\n",
    "                Np += 1\n",
    "                break\n",
    "            \n",
    "            Fnew = np.array([])\n",
    "\n",
    "            for gene in F:\n",
    "                stat, p_val = calc_t_stat(points, S1, S2, gene)\n",
    "                if np.abs(stat) > t:\n",
    "                    Fnew = np.append(Fnew, gene)\n",
    "                        \n",
    "            if (Fnew.shape[0] == 0):\n",
    "                return partitions\n",
    "            \n",
    "            \n",
    "            if (len(set(F) - set(Fnew)) == 0 and np.abs(t - T_th) < 1e-4):\n",
    "                Fset = np.array(list(set(Fset) - set(Fnew))).astype(int)\n",
    "                Np += 1\n",
    "                break\n",
    "            else:\n",
    "                F = Fnew.astype(int)\n",
    "                if np.abs(t - T_th) > 1e-4:\n",
    "                    t += step\n",
    "                \n",
    "            \n",
    "        if F.shape[0] != 0:\n",
    "            partitions = np.append(partitions, Partition(S1, S2, F))\n",
    "            \n",
    "        \n",
    "    return partitions\n",
    "\n"
   ]
  },
  {
   "cell_type": "markdown",
   "id": "1ce5835b",
   "metadata": {},
   "source": [
    "## Syntetic data"
   ]
  },
  {
   "cell_type": "code",
   "execution_count": 38,
   "id": "20d995b9",
   "metadata": {
    "ExecuteTime": {
     "end_time": "2022-09-14T06:41:15.394988Z",
     "start_time": "2022-09-14T06:41:15.124639Z"
    }
   },
   "outputs": [
    {
     "data": {
      "image/png": "[encoded data removed]",
      "text/plain": [
       "<Figure size 720x576 with 1 Axes>"
      ]
     },
     "metadata": {
      "needs_background": "light"
     },
     "output_type": "display_data"
    }
   ],
   "source": [
    "points, classes = make_blobs(50, 2, centers=2,  random_state=1001)\n",
    "\n",
    "    \n",
    "## add noise\n",
    "points_noise = points.copy()\n",
    "\n",
    "for k in range(1):\n",
    "    noise = np.random.normal(size=(points.shape[0]), scale=10)\n",
    "    points_noise = np.hstack((points_noise, (points_noise[:, 0] + noise).reshape(-1, 1)))\n",
    "    \n",
    "for k in range(1):\n",
    "    noise = np.random.normal(size=(points.shape[0]), scale=10)\n",
    "    points_noise = np.hstack((points_noise, (points_noise[:, 1] + noise).reshape(-1, 1)))\n",
    "\n",
    "\n",
    "for k in range(96):\n",
    "    noise = np.random.uniform(size=(points.shape[0]))\n",
    "    points_noise = np.hstack((points_noise, noise.reshape(-1, 1)))\n",
    "\n",
    "\n",
    "    \n",
    "plt.figure(figsize=(10, 8))\n",
    "plt.title('Blobs clusters', weight='bold', size=16)\n",
    "\n",
    "for class_ in [0, 1]:\n",
    "    \n",
    "    plt.scatter(points[classes == class_, 0], points[classes == class_, 1], label=class_)\n",
    "\n",
    "\n",
    "plt.xlabel('X', weight='bold', size=14)\n",
    "plt.ylabel('Y', weight='bold', size=14)\n",
    "\n",
    "plt.legend()\n",
    "\n",
    "plt.savefig('syntetic.jpg')"
   ]
  },
  {
   "cell_type": "markdown",
   "id": "4f0d8149",
   "metadata": {},
   "source": [
    "## Predicted syntetic data"
   ]
  },
  {
   "cell_type": "code",
   "execution_count": 39,
   "id": "661fa2c2",
   "metadata": {
    "ExecuteTime": {
     "end_time": "2022-09-14T06:41:18.150577Z",
     "start_time": "2022-09-14T06:41:16.519609Z"
    },
    "scrolled": true
   },
   "outputs": [],
   "source": [
    "maxN = 3\n",
    "P_th = 99\n",
    "\n",
    "partitions = extract_clusters(points_noise, maxN, P_th)"
   ]
  },
  {
   "cell_type": "code",
   "execution_count": 58,
   "id": "37b3552d",
   "metadata": {
    "ExecuteTime": {
     "end_time": "2022-09-14T06:49:10.979598Z",
     "start_time": "2022-09-14T06:49:10.216472Z"
    }
   },
   "outputs": [
    {
     "name": "stdout",
     "output_type": "stream",
     "text": [
      "Genes for partition 1: 2 3\n",
      "Samples for partition 1 group A: 5 34 48 2 8 20 1 49 45 23 7 17\n",
      "Samples for partition 1 group B: 36 31 27 6 46 13 25 21 42 0 43 19 24 18 16 15 32 37 35 14 22 28 12 11 4 40 39 38 3 30 44 33 41 47 26 29 9 10\n",
      "\n",
      "Genes for partition 2: 0 1 50 66\n",
      "Samples for partition 2 group A: 33 4 49 15 5 20 35 11 22 46 1 40 38 0 16 9 13 43 47 18 39 32 23 44 31\n",
      "Samples for partition 2 group B: 36 34 29 42 30 8 27 45 17 28 24 2 19 7 25 37 12 26 10 14 48 6 3 21 41\n",
      "\n",
      "Genes for partition 3: 40 80 81\n",
      "Samples for partition 3 group A: 37 43 49 36 2 32 38 39 23 34 45 12 48 3 19 1 18 10 35 47 9 15 16 4 13 26 41 14 40 46\n",
      "Samples for partition 3 group B: 42 6 17 33 25 28 31 27 8 44 5 20 7 21 24 0 11 22 29 30\n",
      "\n"
     ]
    },
    {
     "data": {
      "image/png": "[encoded data removed]",
      "text/plain": [
       "<Figure size 1512x432 with 3 Axes>"
      ]
     },
     "metadata": {
      "needs_background": "light"
     },
     "output_type": "display_data"
    }
   ],
   "source": [
    "fig, axs = plt.subplots(1, 3, figsize=(21, 6))\n",
    "\n",
    "for i, part in enumerate(partitions, start=1):\n",
    "    \n",
    "    best_partition = partitions[i - 1]\n",
    "    genes = best_partition.genes\n",
    "\n",
    "    pred_classes = np.zeros(points.shape[0])\n",
    "    pred_classes[best_partition.S2] = 1\n",
    "\n",
    "    \n",
    "    \n",
    "\n",
    "    for class_ in [0, 1]:\n",
    "\n",
    "        axs[i - 1].scatter(points[pred_classes == class_, 0], points[pred_classes == class_, 1], label=class_)\n",
    "        axs[i - 1].set_title(f'Predicted clusters with genes {genes}', weight='bold', size=16)\n",
    "        axs[i - 1].set_xlabel('X', weight='bold', size=14)\n",
    "        axs[i - 1].set_ylabel('Y', weight='bold', size=14)\n",
    "        axs[i - 1].legend()\n",
    "\n",
    "   \n",
    "\n",
    "    \n",
    "    print(f'Genes for partition {i}:', *part.genes)\n",
    "    print(f'Samples for partition {i} group A:', *part.S1)\n",
    "    print(f'Samples for partition {i} group B:', *part.S2)\n",
    "    print()\n",
    "\n",
    "\n",
    "plt.savefig('predicted.jpg')"
   ]
  },
  {
   "cell_type": "code",
   "execution_count": null,
   "id": "e62bc9dc",
   "metadata": {},
   "outputs": [],
   "source": []
  }
 ],
 "metadata": {
  "kernelspec": {
   "display_name": "Python 3 (ipykernel)",
   "language": "python",
   "name": "python3"
  },
  "language_info": {
   "codemirror_mode": {
    "name": "ipython",
    "version": 3
   },
   "file_extension": ".py",
   "mimetype": "text/x-python",
   "name": "python",
   "nbconvert_exporter": "python",
   "pygments_lexer": "ipython3",
   "version": "3.9.7"
  },
  "toc": {
   "base_numbering": 1,
   "nav_menu": {},
   "number_sections": true,
   "sideBar": true,
   "skip_h1_title": false,
   "title_cell": "Table of Contents",
   "title_sidebar": "Contents",
   "toc_cell": false,
   "toc_position": {},
   "toc_section_display": true,
   "toc_window_display": false
  }
 },
 "nbformat": 4,
 "nbformat_minor": 5
}
